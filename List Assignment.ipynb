{
 "cells": [
  {
   "cell_type": "markdown",
   "metadata": {},
   "source": [
    "### 1. Write a program that accepts a list from user and print the alternate element of list. "
   ]
  },
  {
   "cell_type": "code",
   "execution_count": 5,
   "metadata": {},
   "outputs": [
    {
     "name": "stdout",
     "output_type": "stream",
     "text": [
      "12\n",
      "4\n",
      "6\n",
      "7\n"
     ]
    }
   ],
   "source": [
    "user_input=input(\"Enter all number for list and seperate each by giving space\")\n",
    "list=user_input.split()\n",
    "for i in range(0,len(list)):\n",
    "    if i%2==0:\n",
    "        print(list[i])"
   ]
  },
  {
   "cell_type": "markdown",
   "metadata": {},
   "source": [
    "### 2. Write a program that accepts a list from user. Your program should reverse the content of list and display it. Do not use reverse() method. "
   ]
  },
  {
   "cell_type": "code",
   "execution_count": 6,
   "metadata": {},
   "outputs": [
    {
     "name": "stdout",
     "output_type": "stream",
     "text": [
      "Reversed list: ['0', '9', '8', '7', '6', '5', '4', '3', '2', '1']\n"
     ]
    }
   ],
   "source": [
    "user_list = input(\"Enter a list of elements separated by spaces: \").split()\n",
    "reversed_list = user_list[::-1]\n",
    "print(\"Reversed list:\", reversed_list)\n"
   ]
  },
  {
   "cell_type": "markdown",
   "metadata": {},
   "source": [
    "### 3. Find and display the largest number of a list without using built-in function max(). Your program should ask the user to input values in list from keyboard. \n"
   ]
  },
  {
   "cell_type": "code",
   "execution_count": 18,
   "metadata": {},
   "outputs": [
    {
     "name": "stdout",
     "output_type": "stream",
     "text": [
      "The largest number in the list is: 9.0\n"
     ]
    }
   ],
   "source": [
    "numbers = []\n",
    "while True:\n",
    "    num = input(\"Enter a number (or 'done' to finish): \")\n",
    "    if num.lower() == 'done':\n",
    "        break\n",
    "    numbers.append(float(num))\n",
    "\n",
    "largest = numbers[0]\n",
    "for num in numbers[1:]:\n",
    "    if num > largest:\n",
    "        largest = num\n",
    "\n",
    "print(\"The largest number in the list is:\", largest)\n",
    "\n",
    "\n"
   ]
  },
  {
   "cell_type": "markdown",
   "metadata": {},
   "source": [
    "### 4. Write a program that rotates the element of a list so that the element at the first index moves to the second index, the element in the second index moves to the third index, etc., and the element in the last index moves to the first index. "
   ]
  },
  {
   "cell_type": "code",
   "execution_count": 19,
   "metadata": {},
   "outputs": [
    {
     "name": "stdout",
     "output_type": "stream",
     "text": [
      "Original List: [1, 2, 3, 4, 5]\n",
      "Rotated List: [5, 1, 2, 3, 4]\n"
     ]
    }
   ],
   "source": [
    "def rotate_list(lst):\n",
    "    if len(lst) == 0:\n",
    "        return lst\n",
    "    else:\n",
    "        last_element = lst.pop()\n",
    "        lst.insert(0, last_element)\n",
    "        return lst\n",
    "\n",
    "# Test the function\n",
    "my_list = [1, 2, 3, 4, 5]\n",
    "print(\"Original List:\", my_list)\n",
    "print(\"Rotated List:\", rotate_list(my_list))"
   ]
  },
  {
   "cell_type": "markdown",
   "metadata": {},
   "source": [
    "### 5. Write a program that input a string and ask user to delete a given word from a string. \n"
   ]
  },
  {
   "cell_type": "code",
   "execution_count": 20,
   "metadata": {},
   "outputs": [
    {
     "name": "stdout",
     "output_type": "stream",
     "text": [
      "Original String: umar khan\n",
      "String after deleting the word: khan\n"
     ]
    }
   ],
   "source": [
    "def delete_word_from_string():\n",
    "    original_string = input(\"Enter a string: \")\n",
    "    word_to_delete = input(\"Enter a word to delete: \")\n",
    "\n",
    "    words = original_string.split()\n",
    "    new_string = ' '.join([word for word in words if word.lower() != word_to_delete.lower()])\n",
    "\n",
    "    print(\"Original String:\", original_string)\n",
    "    print(\"String after deleting the word:\", new_string)\n",
    "\n",
    "delete_word_from_string()"
   ]
  },
  {
   "cell_type": "markdown",
   "metadata": {},
   "source": [
    "### Write a program that reads a string from the user containing a date in the form mm/dd/yyyy. It should print the date in the form March 12, 2021"
   ]
  },
  {
   "cell_type": "code",
   "execution_count": 21,
   "metadata": {},
   "outputs": [
    {
     "name": "stdout",
     "output_type": "stream",
     "text": [
      "Date in the format March 12, 2021: March 08, 2005\n"
     ]
    }
   ],
   "source": [
    "from datetime import datetime\n",
    "\n",
    "def convert_date_format():\n",
    "    date_string = input(\"Enter a date in the format mm/dd/yyyy: \")\n",
    "\n",
    "    try:\n",
    "        date_object = datetime.strptime(date_string, \"%m/%d/%Y\")\n",
    "        formatted_date = date_object.strftime(\"%B %d, %Y\")\n",
    "        print(\"Date in the format March 12, 2021:\", formatted_date)\n",
    "    except ValueError:\n",
    "        print(\"Invalid date format. Please enter a date in the format mm/dd/yyyy.\")\n",
    "\n",
    "convert_date_format()"
   ]
  },
  {
   "cell_type": "markdown",
   "metadata": {},
   "source": [
    "### 7. Write a program with a function that accepts a string from keyboard and create a new string after converting character of each word capitalized. For instance, if the sentence is \"stop and smell the roses.\" the output should be \"Stop And Smell The Roses\" "
   ]
  },
  {
   "cell_type": "code",
   "execution_count": 23,
   "metadata": {},
   "outputs": [
    {
     "name": "stdout",
     "output_type": "stream",
     "text": [
      "Original sentence: umar khan ghouri\n",
      "Sentence with capitalized words: Umar Khan Ghouri\n"
     ]
    }
   ],
   "source": [
    "def capitalize_words():\n",
    "    sentence = input(\"Enter a sentence: \")\n",
    "    words = sentence.split()\n",
    "    capitalized_words = [word.capitalize() for word in words]\n",
    "    new_sentence = ' '.join(capitalized_words)\n",
    "    print(\"Original sentence:\", sentence)\n",
    "    print(\"Sentence with capitalized words:\", new_sentence)\n",
    "\n",
    "capitalize_words()"
   ]
  },
  {
   "cell_type": "markdown",
   "metadata": {},
   "source": [
    "### Find the sum of each row of matrix of size m x n."
   ]
  },
  {
   "cell_type": "code",
   "execution_count": 36,
   "metadata": {},
   "outputs": [
    {
     "name": "stdout",
     "output_type": "stream",
     "text": [
      "Matrix:\n",
      "[1, 1]\n",
      "[1, 1]\n",
      "Sum of each row:\n",
      "Row 1: 2\n",
      "Row 2: 2\n"
     ]
    }
   ],
   "source": [
    "def sum_of_rows():\n",
    "    m = int(input(\"Enter the number of rows: \"))\n",
    "    n = int(input(\"Enter the number of columns: \"))\n",
    "\n",
    "    matrix_data = []\n",
    "    for i in range(m):\n",
    "        row = [int(x) for x in input(\"Enter row {} elements separated by space: \".format(i+1)).split()]\n",
    "        matrix_data.append(row)\n",
    "\n",
    "    row_sums = [sum(row) for row in matrix_data]\n",
    "\n",
    "    print(\"Matrix:\")\n",
    "    for row in matrix_data:\n",
    "        print(row)\n",
    "\n",
    "    print(\"Sum of each row:\")\n",
    "    for i, row_sum in enumerate(row_sums, start=1):\n",
    "        print(\"Row {}: {}\".format(i, row_sum))\n",
    "\n",
    "sum_of_rows()"
   ]
  },
  {
   "cell_type": "markdown",
   "metadata": {},
   "source": [
    "### Write a program to add two matrices of size n x m. "
   ]
  },
  {
   "cell_type": "code",
   "execution_count": 33,
   "metadata": {},
   "outputs": [
    {
     "name": "stdout",
     "output_type": "stream",
     "text": [
      "Matrix 1:\n",
      "[1]\n",
      "Matrix 2:\n",
      "[1]\n",
      "Result Matrix:\n",
      "[2]\n"
     ]
    }
   ],
   "source": [
    "def add_matrices():\n",
    "    n = int(input(\"Enter the number of rows: \"))\n",
    "    m = int(input(\"Enter the number of columns: \"))\n",
    "\n",
    "    matrix1 = []\n",
    "    for i in range(n):\n",
    "        row_values = input(\"Enter row {} elements of matrix 1 separated by space: \".format(i+1)).split()\n",
    "        row = [int(value) for value in row_values]\n",
    "        matrix1.append(row)\n",
    "\n",
    "    matrix2 = []\n",
    "    for i in range(n):\n",
    "        row_values = input(\"Enter row {} elements of matrix 2 separated by space: \".format(i+1)).split()\n",
    "        row = [int(value) for value in row_values]\n",
    "        matrix2.append(row)\n",
    "    result_matrix = [[matrix1[i][j] + matrix2[i][j] for j in range(m)] for i in range(n)]\n",
    "\n",
    "    print(\"Matrix 1:\")\n",
    "    for row in matrix1:\n",
    "        print(row)\n",
    "    print(\"Matrix 2:\")\n",
    "    for row in matrix2:\n",
    "        print(row)\n",
    "    print(\"Result Matrix:\")\n",
    "    for row in result_matrix:\n",
    "        print(row)\n",
    "\n",
    "add_matrices()"
   ]
  },
  {
   "cell_type": "markdown",
   "metadata": {},
   "source": [
    "### 10. Write a program to multiply two matrices "
   ]
  },
  {
   "cell_type": "code",
   "execution_count": 37,
   "metadata": {},
   "outputs": [
    {
     "name": "stdout",
     "output_type": "stream",
     "text": [
      "Matrix 1:\n",
      "[2, 2]\n",
      "[2, 2]\n",
      "Matrix 2:\n",
      "[2, 2]\n",
      "[2, 2]\n",
      "Result:\n",
      "[8, 8]\n",
      "[8, 8]\n"
     ]
    }
   ],
   "source": [
    "def multiply_matrices():\n",
    "    m = int(input(\"Enter the number of rows in the first matrix: \"))\n",
    "    n = int(input(\"Enter the number of columns in the first matrix: \"))\n",
    "    p = int(input(\"Enter the number of rows in the second matrix: \"))\n",
    "    q = int(input(\"Enter the number of columns in the second matrix: \"))\n",
    "\n",
    "    if n != p:\n",
    "        print(\"Error: The number of columns in the first matrix must be equal to the number of rows in the second matrix.\")\n",
    "        return\n",
    "\n",
    "    matrix1 = []\n",
    "    for i in range(m):\n",
    "        row = [int(x) for x in input(\"Enter row {} elements of the first matrix separated by space: \".format(i+1)).split()]\n",
    "        matrix1.append(row)\n",
    "\n",
    "    matrix2 = []\n",
    "    for i in range(p):\n",
    "        row = [int(x) for x in input(\"Enter row {} elements of the second matrix separated by space: \".format(i+1)).split()]\n",
    "        matrix2.append(row)\n",
    "\n",
    "    result = [[0 for _ in range(q)] for _ in range(m)]\n",
    "    for i in range(m):\n",
    "        for j in range(q):\n",
    "            for k in range(n):\n",
    "                result[i][j] += matrix1[i][k] * matrix2[k][j]\n",
    "\n",
    "    print(\"Matrix 1:\")\n",
    "    for row in matrix1:\n",
    "        print(row)\n",
    "\n",
    "    print(\"Matrix 2:\")\n",
    "    for row in matrix2:\n",
    "        print(row)\n",
    "\n",
    "    print(\"Result:\")\n",
    "    for row in result:\n",
    "        print(row)\n",
    "\n",
    "multiply_matrices()"
   ]
  },
  {
   "cell_type": "code",
   "execution_count": null,
   "metadata": {},
   "outputs": [],
   "source": []
  }
 ],
 "metadata": {
  "kernelspec": {
   "display_name": "Python 3",
   "language": "python",
   "name": "python3"
  },
  "language_info": {
   "codemirror_mode": {
    "name": "ipython",
    "version": 3
   },
   "file_extension": ".py",
   "mimetype": "text/x-python",
   "name": "python",
   "nbconvert_exporter": "python",
   "pygments_lexer": "ipython3",
   "version": "3.12.2"
  }
 },
 "nbformat": 4,
 "nbformat_minor": 2
}
