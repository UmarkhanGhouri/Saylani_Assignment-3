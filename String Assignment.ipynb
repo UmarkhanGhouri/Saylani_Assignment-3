{
 "cells": [
  {
   "cell_type": "markdown",
   "metadata": {},
   "source": [
    "### 1. Write a program that accepts a string from user. Your program should count and display number of vowels in that string."
   ]
  },
  {
   "cell_type": "code",
   "execution_count": 10,
   "metadata": {},
   "outputs": [
    {
     "name": "stdout",
     "output_type": "stream",
     "text": [
      "Number of vowels are: 3\n"
     ]
    }
   ],
   "source": [
    "def counter(char):\n",
    "    vowels=\"aeiouAEIOU\"\n",
    "    count=0\n",
    "    for characters in char:\n",
    "        if characters in vowels:\n",
    "            count=count+1\n",
    "    return count\n",
    "\n",
    "user_input=input(\"Enter Your Word\")\n",
    "\n",
    "counted=counter(user_input)\n",
    "\n",
    "print(\"Number of vowels are:\", counted)\n"
   ]
  },
  {
   "cell_type": "markdown",
   "metadata": {},
   "source": [
    "### 2. Write a program that reads a string from keyboard and display: \n",
    "*   The number of uppercase letters in the string \n",
    "* The number of lowercase letters in the string \n",
    "* The number of digits in the string * The number of whitespace characters in the string  "
   ]
  },
  {
   "cell_type": "code",
   "execution_count": 16,
   "metadata": {},
   "outputs": [
    {
     "name": "stdout",
     "output_type": "stream",
     "text": [
      "The Upper is 3,The Lower is 11,The number of white spaces 5\n"
     ]
    }
   ],
   "source": [
    "def upperlowerandnumbercounter():\n",
    "    user_input=input(\"Enter Your Word\")\n",
    "    count_upper=0\n",
    "    count_lower=0\n",
    "    count_number=0\n",
    "    for char in user_input:\n",
    "        if char.isupper():\n",
    "            count_upper+=1\n",
    "        elif char.islower():\n",
    "            count_lower+=1\n",
    "        elif char.isspace():\n",
    "            count_number+=1\n",
    "    return count_upper,count_lower,count_number\n",
    "\n",
    "upper,lower,number=upperlowerandnumbercounter()\n",
    "print(f\"The Upper is {upper},The Lower is {lower},The number of white spaces {number}\")"
   ]
  },
  {
   "cell_type": "markdown",
   "metadata": {},
   "source": [
    "### 3. Write a Python program that accepts a string from user. Your program should create and display a new string where the first and last characters have been exchanged. \n"
   ]
  },
  {
   "cell_type": "code",
   "execution_count": 19,
   "metadata": {},
   "outputs": [
    {
     "name": "stdout",
     "output_type": "stream",
     "text": [
      "nmar KhaU\n"
     ]
    }
   ],
   "source": [
    "def exchangefirstwithlast():\n",
    "    user_input=input(\"Enter Your Word\")\n",
    "    first=user_input[0]\n",
    "    last=user_input[-1]\n",
    "    new_user_input=user_input[1:-1]\n",
    "    return last+new_user_input+first\n",
    "\n",
    "print(exchangefirstwithlast())\n"
   ]
  },
  {
   "cell_type": "markdown",
   "metadata": {},
   "source": [
    "### 4. Write a Python program that accepts a string from user. Your program should create a new string in reverse of first string and display it. \n"
   ]
  },
  {
   "cell_type": "code",
   "execution_count": 22,
   "metadata": {},
   "outputs": [
    {
     "name": "stdout",
     "output_type": "stream",
     "text": [
      "ramu\n"
     ]
    }
   ],
   "source": [
    "def reversestring():\n",
    "    user_input=input(\"Enter Your Word\")\n",
    "    return user_input[::-1]\n",
    "\n",
    "print(reversestring())"
   ]
  },
  {
   "cell_type": "markdown",
   "metadata": {},
   "source": [
    "### 5. Write a Python program that accepts a string from user. Your program should create a new string by shifting one position to left. \n"
   ]
  },
  {
   "cell_type": "code",
   "execution_count": 34,
   "metadata": {},
   "outputs": [
    {
     "name": "stdout",
     "output_type": "stream",
     "text": [
      "String after shifting one position to the left: maru\n"
     ]
    }
   ],
   "source": [
    "def shift_left(string):\n",
    "    if len(string) > 1:\n",
    "        return string[1:] + string[0]\n",
    "\n",
    "user_input = input(\"Enter Your Word: \")\n",
    "shifted_string = shift_left(user_input)\n",
    "print(\"String after shifting one position to the left:\", shifted_string)\n",
    "\n"
   ]
  },
  {
   "cell_type": "markdown",
   "metadata": {},
   "source": [
    "### 6. Write a program that asks the user to input his name and print its initials. Assuming that the user always types first name, middle name and last name and does not include any unnecessary spaces. \n"
   ]
  },
  {
   "cell_type": "code",
   "execution_count": 46,
   "metadata": {},
   "outputs": [
    {
     "name": "stdout",
     "output_type": "stream",
     "text": [
      "Your initials are: U.K.G.\n"
     ]
    }
   ],
   "source": [
    "def get_initials(full_name):\n",
    "    initials = full_name[0].upper() + '.'\n",
    "    for i in range(1, len(full_name)):\n",
    "        if full_name[i] == ' ':\n",
    "            initials += full_name[i+1].upper() + '.'   \n",
    "    return initials\n",
    "user_input = input(\"Enter your first name, middle name, and last name: \")\n",
    "initials = get_initials(user_input)\n",
    "print(\"Your initials are:\", initials)\n"
   ]
  },
  {
   "cell_type": "markdown",
   "metadata": {},
   "source": [
    "### 7. A palindrome is a string that reads the same backward as forward. For example, the words dad, madam and radar are all palindromes. Write a programs that determines whether the string is a palindrome. \n"
   ]
  },
  {
   "cell_type": "code",
   "execution_count": 50,
   "metadata": {},
   "outputs": [
    {
     "name": "stdout",
     "output_type": "stream",
     "text": [
      "True\n"
     ]
    }
   ],
   "source": [
    "def palindromefinder():\n",
    "    user_input=input(\"Enter Your Word\").lower().strip()\n",
    "    if user_input==user_input[::-1]:\n",
    "        return True\n",
    "    else:\n",
    "        return False\n",
    "\n",
    "print(palindromefinder())\n"
   ]
  },
  {
   "cell_type": "markdown",
   "metadata": {},
   "source": [
    "### 8. Write a program that display following output: \n",
    "*    SHIFT\n",
    "*    HIFTS \n",
    "*    IFTSH \n",
    "*    FTSHI \n",
    "*    TSHIF \n",
    "*    SHIFT  "
   ]
  },
  {
   "cell_type": "code",
   "execution_count": 53,
   "metadata": {},
   "outputs": [
    {
     "name": "stdout",
     "output_type": "stream",
     "text": [
      "SHIFT\n",
      "HIFTS\n",
      "IFTSH\n",
      "FTSHI\n",
      "TSHIF\n",
      "SHIFT\n"
     ]
    }
   ],
   "source": [
    "string = \"SHIFT\"\n",
    "\n",
    "for i in range(len(string)+1):\n",
    "    print(string[i:] + string[:i])\n"
   ]
  },
  {
   "cell_type": "markdown",
   "metadata": {},
   "source": [
    "### 9. Write a program in python that accepts a string to setup a passwords. Your entered password must meet the following requirements: The password must be at least eight characters long. It must contain at least one uppercase letter. It must contain at least one lowercase letter. It must contain at least one numeric digit. Your program should should perform this validation."
   ]
  },
  {
   "cell_type": "code",
   "execution_count": 58,
   "metadata": {},
   "outputs": [
    {
     "name": "stdout",
     "output_type": "stream",
     "text": [
      "Password is invalid\n"
     ]
    }
   ],
   "source": [
    "def password_validation(password):\n",
    "    if len(password) < 8:\n",
    "        return False\n",
    "    if not any(char.isupper() for char in password):\n",
    "        return False\n",
    "    if not any(char.islower() for char in password):\n",
    "        return False\n",
    "    if not any(char.isdigit() for char in password):\n",
    "        return False\n",
    "    return True\n",
    "\n",
    "password = input(\"Enter your password: \")\n",
    "if password_validation(password):\n",
    "    print(\"Password is valid\")\n",
    "else:\n",
    "    print(\"Password is invalid\")\n"
   ]
  }
 ],
 "metadata": {
  "kernelspec": {
   "display_name": "Python 3",
   "language": "python",
   "name": "python3"
  },
  "language_info": {
   "codemirror_mode": {
    "name": "ipython",
    "version": 3
   },
   "file_extension": ".py",
   "mimetype": "text/x-python",
   "name": "python",
   "nbconvert_exporter": "python",
   "pygments_lexer": "ipython3",
   "version": "3.12.2"
  }
 },
 "nbformat": 4,
 "nbformat_minor": 2
}
